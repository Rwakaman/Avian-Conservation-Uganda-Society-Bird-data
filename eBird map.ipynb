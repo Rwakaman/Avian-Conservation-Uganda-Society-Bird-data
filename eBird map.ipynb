{
 "cells": [
  {
   "cell_type": "code",
   "execution_count": 2,
   "id": "a297ac0f",
   "metadata": {},
   "outputs": [
    {
     "name": "stderr",
     "output_type": "stream",
     "text": [
      "C:\\Users\\Dell\\AppData\\Local\\Temp\\ipykernel_5052\\3969583021.py:10: SettingWithCopyWarning: \n",
      "A value is trying to be set on a copy of a slice from a DataFrame.\n",
      "Try using .loc[row_indexer,col_indexer] = value instead\n",
      "\n",
      "See the caveats in the documentation: https://pandas.pydata.org/pandas-docs/stable/user_guide/indexing.html#returning-a-view-versus-a-copy\n",
      "  ebird_data_clean['Count'] = ebird_data_clean['Count'].astype(int)\n"
     ]
    }
   ],
   "source": [
    "import pandas as pd\n",
    "import plotly.express as px\n",
    "\n",
    "# Load the data\n",
    "file_path = r'C:\\Users\\Dell\\Downloads\\ebird_1705303293786\\MyEBirdData.csv'\n",
    "ebird_data = pd.read_csv(file_path)\n",
    "\n",
    "# Data cleaning\n",
    "ebird_data_clean = ebird_data[pd.to_numeric(ebird_data['Count'], errors='coerce').notnull()]\n",
    "ebird_data_clean['Count'] = ebird_data_clean['Count'].astype(int)\n",
    "\n",
    "# Generate the GIS map\n",
    "fig = px.scatter_mapbox(\n",
    "    ebird_data_clean,\n",
    "    lat='Latitude',\n",
    "    lon='Longitude',\n",
    "    color='Common Name',\n",
    "    size='Count',\n",
    "    hover_name='Common Name',\n",
    "    hover_data=['Scientific Name', 'Count'],\n",
    "    title='eBird Observations',\n",
    "    mapbox_style='open-street-map',\n",
    "    zoom=3\n",
    ")\n",
    "\n",
    "# Save the plotly figure as an HTML file\n",
    "fig.write_html(\"ebird_observations_map.html\")\n"
   ]
  },
  {
   "cell_type": "code",
   "execution_count": null,
   "id": "ae0dc3dd",
   "metadata": {},
   "outputs": [],
   "source": []
  }
 ],
 "metadata": {
  "kernelspec": {
   "display_name": "Python 3 (ipykernel)",
   "language": "python",
   "name": "python3"
  },
  "language_info": {
   "codemirror_mode": {
    "name": "ipython",
    "version": 3
   },
   "file_extension": ".py",
   "mimetype": "text/x-python",
   "name": "python",
   "nbconvert_exporter": "python",
   "pygments_lexer": "ipython3",
   "version": "3.11.4"
  }
 },
 "nbformat": 4,
 "nbformat_minor": 5
}
